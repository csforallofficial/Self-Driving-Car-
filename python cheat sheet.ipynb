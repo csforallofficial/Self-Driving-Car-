{
 "cells": [
  {
   "cell_type": "code",
   "execution_count": 2,
   "id": "37e9fa5e",
   "metadata": {},
   "outputs": [
    {
     "name": "stdout",
     "output_type": "stream",
     "text": [
      "2\n"
     ]
    }
   ],
   "source": [
    "print(1+1)"
   ]
  },
  {
   "cell_type": "code",
   "execution_count": 3,
   "id": "5be9727b",
   "metadata": {},
   "outputs": [
    {
     "data": {
      "text/plain": [
       "2"
      ]
     },
     "execution_count": 3,
     "metadata": {},
     "output_type": "execute_result"
    }
   ],
   "source": [
    "(1+1)"
   ]
  },
  {
   "cell_type": "code",
   "execution_count": 4,
   "id": "b6490938",
   "metadata": {},
   "outputs": [
    {
     "data": {
      "text/plain": [
       "0"
      ]
     },
     "execution_count": 4,
     "metadata": {},
     "output_type": "execute_result"
    }
   ],
   "source": [
    "(1 - 1)"
   ]
  },
  {
   "cell_type": "code",
   "execution_count": 5,
   "id": "7a03ec8f",
   "metadata": {},
   "outputs": [
    {
     "data": {
      "text/plain": [
       "49"
      ]
     },
     "execution_count": 5,
     "metadata": {},
     "output_type": "execute_result"
    }
   ],
   "source": [
    "(7 * 7)"
   ]
  },
  {
   "cell_type": "code",
   "execution_count": 6,
   "id": "ef4a2c8f",
   "metadata": {},
   "outputs": [
    {
     "data": {
      "text/plain": [
       "2.0"
      ]
     },
     "execution_count": 6,
     "metadata": {},
     "output_type": "execute_result"
    }
   ],
   "source": [
    "(10 / 5)"
   ]
  },
  {
   "cell_type": "code",
   "execution_count": 7,
   "id": "1ce87d8e",
   "metadata": {},
   "outputs": [
    {
     "data": {
      "text/plain": [
       "36"
      ]
     },
     "execution_count": 7,
     "metadata": {},
     "output_type": "execute_result"
    }
   ],
   "source": [
    "(6 + 9 * 3 + 3)"
   ]
  },
  {
   "cell_type": "code",
   "execution_count": 8,
   "id": "2aae5653",
   "metadata": {},
   "outputs": [
    {
     "data": {
      "text/plain": [
       "90"
      ]
     },
     "execution_count": 8,
     "metadata": {},
     "output_type": "execute_result"
    }
   ],
   "source": [
    "((6+9)*(3+3))"
   ]
  },
  {
   "cell_type": "code",
   "execution_count": 9,
   "id": "43271361",
   "metadata": {},
   "outputs": [
    {
     "data": {
      "text/plain": [
       "0"
      ]
     },
     "execution_count": 9,
     "metadata": {},
     "output_type": "execute_result"
    }
   ],
   "source": [
    "(6 % 2)"
   ]
  },
  {
   "cell_type": "code",
   "execution_count": 10,
   "id": "8e1d864d",
   "metadata": {},
   "outputs": [
    {
     "data": {
      "text/plain": [
       "1"
      ]
     },
     "execution_count": 10,
     "metadata": {},
     "output_type": "execute_result"
    }
   ],
   "source": [
    "(9 % 2)"
   ]
  },
  {
   "cell_type": "code",
   "execution_count": 11,
   "id": "451eb9d4",
   "metadata": {},
   "outputs": [
    {
     "data": {
      "text/plain": [
       "36"
      ]
     },
     "execution_count": 11,
     "metadata": {},
     "output_type": "execute_result"
    }
   ],
   "source": [
    "6 ** 2"
   ]
  },
  {
   "cell_type": "code",
   "execution_count": 12,
   "id": "9e8eae90",
   "metadata": {},
   "outputs": [
    {
     "data": {
      "text/plain": [
       "7776"
      ]
     },
     "execution_count": 12,
     "metadata": {},
     "output_type": "execute_result"
    }
   ],
   "source": [
    "6 ** 5"
   ]
  },
  {
   "cell_type": "code",
   "execution_count": 13,
   "id": "7508b106",
   "metadata": {},
   "outputs": [
    {
     "data": {
      "text/plain": [
       "6"
      ]
     },
     "execution_count": 13,
     "metadata": {},
     "output_type": "execute_result"
    }
   ],
   "source": [
    "13 // 2"
   ]
  },
  {
   "cell_type": "code",
   "execution_count": 14,
   "id": "aaccf144",
   "metadata": {},
   "outputs": [
    {
     "data": {
      "text/plain": [
       "25"
      ]
     },
     "execution_count": 14,
     "metadata": {},
     "output_type": "execute_result"
    }
   ],
   "source": [
    "age = 25\n",
    "age"
   ]
  },
  {
   "cell_type": "code",
   "execution_count": 15,
   "id": "78449e9b",
   "metadata": {},
   "outputs": [],
   "source": [
    "age, name, gender = 25, 'Jane', 'Female'\n"
   ]
  },
  {
   "cell_type": "code",
   "execution_count": 16,
   "id": "ed8b4b93",
   "metadata": {},
   "outputs": [
    {
     "data": {
      "text/plain": [
       "25"
      ]
     },
     "execution_count": 16,
     "metadata": {},
     "output_type": "execute_result"
    }
   ],
   "source": [
    "age"
   ]
  },
  {
   "cell_type": "code",
   "execution_count": 17,
   "id": "e98aac8a",
   "metadata": {},
   "outputs": [
    {
     "data": {
      "text/plain": [
       "'Jane'"
      ]
     },
     "execution_count": 17,
     "metadata": {},
     "output_type": "execute_result"
    }
   ],
   "source": [
    "name"
   ]
  },
  {
   "cell_type": "code",
   "execution_count": 18,
   "id": "6771d3bc",
   "metadata": {},
   "outputs": [
    {
     "data": {
      "text/plain": [
       "'Female'"
      ]
     },
     "execution_count": 18,
     "metadata": {},
     "output_type": "execute_result"
    }
   ],
   "source": [
    "gender"
   ]
  },
  {
   "cell_type": "code",
   "execution_count": 19,
   "id": "fae36d84",
   "metadata": {},
   "outputs": [
    {
     "data": {
      "text/plain": [
       "'AB'"
      ]
     },
     "execution_count": 19,
     "metadata": {},
     "output_type": "execute_result"
    }
   ],
   "source": [
    "blood_type = 'AB'\n",
    "blood_type"
   ]
  },
  {
   "cell_type": "code",
   "execution_count": 20,
   "id": "24011205",
   "metadata": {},
   "outputs": [
    {
     "data": {
      "text/plain": [
       "30"
      ]
     },
     "execution_count": 20,
     "metadata": {},
     "output_type": "execute_result"
    }
   ],
   "source": [
    "age = 30\n",
    "age"
   ]
  },
  {
   "cell_type": "code",
   "execution_count": 21,
   "id": "1e144dcb",
   "metadata": {},
   "outputs": [
    {
     "data": {
      "text/plain": [
       "35"
      ]
     },
     "execution_count": 21,
     "metadata": {},
     "output_type": "execute_result"
    }
   ],
   "source": [
    "age += 5\n",
    "age"
   ]
  },
  {
   "cell_type": "code",
   "execution_count": 22,
   "id": "c65dcdc8",
   "metadata": {},
   "outputs": [
    {
     "data": {
      "text/plain": [
       "30"
      ]
     },
     "execution_count": 22,
     "metadata": {},
     "output_type": "execute_result"
    }
   ],
   "source": [
    "age -= 5\n",
    "age"
   ]
  },
  {
   "cell_type": "code",
   "execution_count": 23,
   "id": "d0fd27fe",
   "metadata": {},
   "outputs": [
    {
     "name": "stdout",
     "output_type": "stream",
     "text": [
      "30\n"
     ]
    }
   ],
   "source": [
    "print(age)"
   ]
  },
  {
   "cell_type": "code",
   "execution_count": 27,
   "id": "2ac50b53",
   "metadata": {},
   "outputs": [
    {
     "name": "stdout",
     "output_type": "stream",
     "text": [
      "2.5\n"
     ]
    }
   ],
   "source": [
    "x = 7.5\n",
    "y = 3\n",
    "z = x/y\n",
    "print(z)"
   ]
  },
  {
   "cell_type": "code",
   "execution_count": 28,
   "id": "6538db17",
   "metadata": {},
   "outputs": [
    {
     "name": "stdout",
     "output_type": "stream",
     "text": [
      "<class 'float'>\n"
     ]
    }
   ],
   "source": [
    "print(type(x))"
   ]
  },
  {
   "cell_type": "code",
   "execution_count": 29,
   "id": "ee70e616",
   "metadata": {},
   "outputs": [
    {
     "data": {
      "text/plain": [
       "4.5"
      ]
     },
     "execution_count": 29,
     "metadata": {},
     "output_type": "execute_result"
    }
   ],
   "source": [
    "2 + 2.5"
   ]
  },
  {
   "cell_type": "code",
   "execution_count": 30,
   "id": "9f5ba617",
   "metadata": {},
   "outputs": [
    {
     "data": {
      "text/plain": [
       "2.0"
      ]
     },
     "execution_count": 30,
     "metadata": {},
     "output_type": "execute_result"
    }
   ],
   "source": [
    "7/3.5"
   ]
  },
  {
   "cell_type": "code",
   "execution_count": 31,
   "id": "cd952d2b",
   "metadata": {},
   "outputs": [
    {
     "data": {
      "text/plain": [
       "2.3333333333333335"
      ]
     },
     "execution_count": 31,
     "metadata": {},
     "output_type": "execute_result"
    }
   ],
   "source": [
    "7/3"
   ]
  },
  {
   "cell_type": "code",
   "execution_count": 32,
   "id": "b1145b80",
   "metadata": {},
   "outputs": [
    {
     "name": "stdout",
     "output_type": "stream",
     "text": [
      "<class 'float'>\n"
     ]
    }
   ],
   "source": [
    "print(type(7/3.5))"
   ]
  },
  {
   "cell_type": "code",
   "execution_count": 33,
   "id": "2cf22273",
   "metadata": {},
   "outputs": [
    {
     "data": {
      "text/plain": [
       "2"
      ]
     },
     "execution_count": 33,
     "metadata": {},
     "output_type": "execute_result"
    }
   ],
   "source": [
    "int(7/3.5)"
   ]
  },
  {
   "cell_type": "code",
   "execution_count": 34,
   "id": "d023cf61",
   "metadata": {},
   "outputs": [
    {
     "name": "stdout",
     "output_type": "stream",
     "text": [
      "<class 'int'>\n"
     ]
    }
   ],
   "source": [
    "print(type(int(7/3.5)))"
   ]
  },
  {
   "cell_type": "code",
   "execution_count": 35,
   "id": "66975a57",
   "metadata": {},
   "outputs": [
    {
     "data": {
      "text/plain": [
       "3"
      ]
     },
     "execution_count": 35,
     "metadata": {},
     "output_type": "execute_result"
    }
   ],
   "source": [
    "w = int(3.7)\n",
    "w"
   ]
  },
  {
   "cell_type": "code",
   "execution_count": 36,
   "id": "15f2fb5e",
   "metadata": {},
   "outputs": [
    {
     "name": "stdout",
     "output_type": "stream",
     "text": [
      "3.0\n"
     ]
    }
   ],
   "source": [
    "some_float = float(3)\n",
    "print(some_float)"
   ]
  },
  {
   "cell_type": "code",
   "execution_count": 38,
   "id": "662cd370",
   "metadata": {},
   "outputs": [
    {
     "name": "stdout",
     "output_type": "stream",
     "text": [
      "\"Ameer\"\n",
      "<class 'str'>\n"
     ]
    }
   ],
   "source": [
    "name = '\"Ameer\"'\n",
    "print(name)\n",
    "print(type(name))"
   ]
  },
  {
   "cell_type": "code",
   "execution_count": 41,
   "id": "8c30ca02",
   "metadata": {},
   "outputs": [
    {
     "name": "stdout",
     "output_type": "stream",
     "text": [
      "Ameer said \"Hello John\", to which John replied, \"You're the best\"\n"
     ]
    }
   ],
   "source": [
    "dialogue = 'Ameer said \"Hello John\", to which John replied, \"You\\'re the best\"'\n",
    "print(dialogue)"
   ]
  },
  {
   "cell_type": "code",
   "execution_count": 46,
   "id": "e1e1f97c",
   "metadata": {},
   "outputs": [
    {
     "name": "stdout",
     "output_type": "stream",
     "text": [
      "160\n"
     ]
    }
   ],
   "source": [
    "segment_one = \"I\\'m 23\"\n",
    "segment_two = \"years old\"\n",
    "full_sentence = segment_one + \" \" + segment_two\n",
    "long_sentence = full_sentence * 10\n",
    "print(len(long_sentence))"
   ]
  },
  {
   "cell_type": "code",
   "execution_count": 47,
   "id": "050a5fd4",
   "metadata": {},
   "outputs": [],
   "source": [
    "this_crash_course_is_awesome = True\n",
    "this_crash_course_is_not_awesome = False\n"
   ]
  },
  {
   "cell_type": "code",
   "execution_count": 56,
   "id": "2079bd6e",
   "metadata": {},
   "outputs": [
    {
     "name": "stdout",
     "output_type": "stream",
     "text": [
      "True\n"
     ]
    }
   ],
   "source": [
    "comparison_operation = not 2 > 3\n",
    "print(comparison_operation)"
   ]
  },
  {
   "cell_type": "code",
   "execution_count": 57,
   "id": "ac29c7d9",
   "metadata": {},
   "outputs": [
    {
     "name": "stdout",
     "output_type": "stream",
     "text": [
      "HARRY POTTER AND THE PRISONER OF AZKABAN\n"
     ]
    }
   ],
   "source": [
    "movie_title = 'Harry Potter and the prisoner of Azkaban'\n",
    "print(movie_title.upper())"
   ]
  },
  {
   "cell_type": "code",
   "execution_count": 58,
   "id": "9ebe47a0",
   "metadata": {},
   "outputs": [
    {
     "name": "stdout",
     "output_type": "stream",
     "text": [
      "harry potter and the prisoner of azkaban\n"
     ]
    }
   ],
   "source": [
    "print(movie_title.lower())"
   ]
  },
  {
   "cell_type": "code",
   "execution_count": 59,
   "id": "2e2ec360",
   "metadata": {},
   "outputs": [
    {
     "name": "stdout",
     "output_type": "stream",
     "text": [
      "4\n"
     ]
    }
   ],
   "source": [
    "print(movie_title.count('a'))"
   ]
  },
  {
   "cell_type": "code",
   "execution_count": 60,
   "id": "a84e3f33",
   "metadata": {},
   "outputs": [
    {
     "name": "stdout",
     "output_type": "stream",
     "text": [
      "John\n"
     ]
    }
   ],
   "source": [
    "names = ['John', 'Jane', 'Joe']\n",
    "print(names[0])"
   ]
  },
  {
   "cell_type": "code",
   "execution_count": 61,
   "id": "edeac48b",
   "metadata": {},
   "outputs": [
    {
     "name": "stdout",
     "output_type": "stream",
     "text": [
      "Joe\n"
     ]
    }
   ],
   "source": [
    "print(names[2])"
   ]
  },
  {
   "cell_type": "code",
   "execution_count": 62,
   "id": "1613889f",
   "metadata": {},
   "outputs": [
    {
     "name": "stdout",
     "output_type": "stream",
     "text": [
      "Jane\n"
     ]
    }
   ],
   "source": [
    "print(names[1])"
   ]
  },
  {
   "cell_type": "code",
   "execution_count": 63,
   "id": "5665b1dc",
   "metadata": {},
   "outputs": [],
   "source": [
    "random_variable = [True,False,'Hello', 1 , 1.2]\n"
   ]
  },
  {
   "cell_type": "code",
   "execution_count": 66,
   "id": "d90774fa",
   "metadata": {},
   "outputs": [
    {
     "name": "stdout",
     "output_type": "stream",
     "text": [
      "5\n"
     ]
    }
   ],
   "source": [
    "length = len(random_variable)\n",
    "print(length)"
   ]
  },
  {
   "cell_type": "code",
   "execution_count": 67,
   "id": "46e46e1f",
   "metadata": {},
   "outputs": [
    {
     "name": "stdout",
     "output_type": "stream",
     "text": [
      "1\n"
     ]
    }
   ],
   "source": [
    "print(random_variable[3])"
   ]
  },
  {
   "cell_type": "code",
   "execution_count": 74,
   "id": "85b1381a",
   "metadata": {},
   "outputs": [
    {
     "name": "stdout",
     "output_type": "stream",
     "text": [
      "True\n"
     ]
    }
   ],
   "source": [
    "print(random_variable[-5])"
   ]
  },
  {
   "cell_type": "code",
   "execution_count": 82,
   "id": "df6e5f88",
   "metadata": {},
   "outputs": [
    {
     "name": "stdout",
     "output_type": "stream",
     "text": [
      "[0, 1, 2, 3, 4, 5, 6, 7, 8, 9, 10]\n"
     ]
    }
   ],
   "source": [
    "ordered_numbers = [0,1,2,3,4,5,6,7,8,9,10]\n",
    "print(ordered_numbers[:])"
   ]
  },
  {
   "cell_type": "code",
   "execution_count": 89,
   "id": "58fe6d56",
   "metadata": {},
   "outputs": [
    {
     "name": "stdout",
     "output_type": "stream",
     "text": [
      "[0, 2, 4, 6, 8, 10]\n"
     ]
    }
   ],
   "source": [
    "print(list(range(0,11,2)))"
   ]
  },
  {
   "cell_type": "code",
   "execution_count": 90,
   "id": "75683b1f",
   "metadata": {},
   "outputs": [
    {
     "name": "stdout",
     "output_type": "stream",
     "text": [
      "m\n"
     ]
    }
   ],
   "source": [
    "show_title = 'game of thrones'\n",
    "print(show_title[2])"
   ]
  },
  {
   "cell_type": "code",
   "execution_count": 91,
   "id": "f0301689",
   "metadata": {},
   "outputs": [
    {
     "name": "stdout",
     "output_type": "stream",
     "text": [
      "me of thrones\n"
     ]
    }
   ],
   "source": [
    "print(show_title[2:])"
   ]
  },
  {
   "cell_type": "code",
   "execution_count": 93,
   "id": "fca6d089",
   "metadata": {},
   "outputs": [
    {
     "name": "stdout",
     "output_type": "stream",
     "text": [
      "False\n"
     ]
    }
   ],
   "source": [
    "months = ['January','February','March']\n",
    "print('June' in months)"
   ]
  },
  {
   "cell_type": "code",
   "execution_count": 94,
   "id": "255e25da",
   "metadata": {},
   "outputs": [
    {
     "name": "stdout",
     "output_type": "stream",
     "text": [
      "True\n"
     ]
    }
   ],
   "source": [
    "print('January' in months)"
   ]
  },
  {
   "cell_type": "code",
   "execution_count": 95,
   "id": "1bc48f8d",
   "metadata": {},
   "outputs": [
    {
     "name": "stdout",
     "output_type": "stream",
     "text": [
      "True\n"
     ]
    }
   ],
   "source": [
    "print('June' not in months)"
   ]
  },
  {
   "cell_type": "code",
   "execution_count": 96,
   "id": "f15336a7",
   "metadata": {},
   "outputs": [
    {
     "name": "stdout",
     "output_type": "stream",
     "text": [
      "True\n"
     ]
    }
   ],
   "source": [
    "course = 'python crash course'\n",
    "print('crash' in course)"
   ]
  },
  {
   "cell_type": "code",
   "execution_count": 97,
   "id": "d34148dc",
   "metadata": {},
   "outputs": [
    {
     "name": "stdout",
     "output_type": "stream",
     "text": [
      "True\n"
     ]
    }
   ],
   "source": [
    "print('java' not in course)"
   ]
  },
  {
   "cell_type": "code",
   "execution_count": 98,
   "id": "c167785e",
   "metadata": {},
   "outputs": [
    {
     "name": "stdout",
     "output_type": "stream",
     "text": [
      "['bananas', 'apples', 'rutabagas']\n"
     ]
    }
   ],
   "source": [
    "grocery_list = ['bananas','apples','cauliflower']\n",
    "grocery_list[2] = 'rutabagas'\n",
    "print(grocery_list)"
   ]
  },
  {
   "cell_type": "code",
   "execution_count": 99,
   "id": "536b5005",
   "metadata": {},
   "outputs": [
    {
     "ename": "TypeError",
     "evalue": "'str' object does not support item assignment",
     "output_type": "error",
     "traceback": [
      "\u001b[1;31m---------------------------------------------------------------------------\u001b[0m",
      "\u001b[1;31mTypeError\u001b[0m                                 Traceback (most recent call last)",
      "\u001b[1;32m<ipython-input-99-55840abc2b59>\u001b[0m in \u001b[0;36m<module>\u001b[1;34m\u001b[0m\n\u001b[0;32m      1\u001b[0m \u001b[0mmisspelled_vegetable\u001b[0m \u001b[1;33m=\u001b[0m \u001b[1;34m'cucomber'\u001b[0m\u001b[1;33m\u001b[0m\u001b[1;33m\u001b[0m\u001b[0m\n\u001b[1;32m----> 2\u001b[1;33m \u001b[0mmisspelled_vegetable\u001b[0m\u001b[1;33m[\u001b[0m\u001b[1;36m3\u001b[0m\u001b[1;33m]\u001b[0m \u001b[1;33m=\u001b[0m \u001b[1;34m'u'\u001b[0m\u001b[1;33m\u001b[0m\u001b[1;33m\u001b[0m\u001b[0m\n\u001b[0m\u001b[0;32m      3\u001b[0m \u001b[0mprint\u001b[0m\u001b[1;33m(\u001b[0m\u001b[0mmisspelled_vegetable\u001b[0m\u001b[1;33m)\u001b[0m\u001b[1;33m\u001b[0m\u001b[1;33m\u001b[0m\u001b[0m\n",
      "\u001b[1;31mTypeError\u001b[0m: 'str' object does not support item assignment"
     ]
    }
   ],
   "source": [
    "misspelled_vegetable = 'cucomber'\n",
    "misspelled_vegetable[3] = 'u'\n",
    "print(misspelled_vegetable)"
   ]
  },
  {
   "cell_type": "code",
   "execution_count": 100,
   "id": "9903d13c",
   "metadata": {},
   "outputs": [
    {
     "name": "stdout",
     "output_type": "stream",
     "text": [
      "John\n",
      "Ameer\n"
     ]
    }
   ],
   "source": [
    "name = 'Ameer'\n",
    "other_name = name\n",
    "name = 'John'\n",
    "print(name)\n",
    "print(other_name)"
   ]
  },
  {
   "cell_type": "code",
   "execution_count": 102,
   "id": "01918198",
   "metadata": {},
   "outputs": [
    {
     "name": "stdout",
     "output_type": "stream",
     "text": [
      "A song of ice and fire\n",
      "A song of ice and fire\n",
      "['A song of ice and fire', 'The Mist', 'Lord of the rings']\n"
     ]
    }
   ],
   "source": [
    "books = ['The catcher in the Rye', 'The Mist', 'Lord of the rings']\n",
    "more_books = books\n",
    "books[0] = 'A song of ice and fire'\n",
    "print(books[0])\n",
    "print(more_books[0])\n",
    "print(more_books)"
   ]
  },
  {
   "cell_type": "code",
   "execution_count": 103,
   "id": "d748034b",
   "metadata": {},
   "outputs": [
    {
     "data": {
      "text/plain": [
       "4"
      ]
     },
     "execution_count": 103,
     "metadata": {},
     "output_type": "execute_result"
    }
   ],
   "source": [
    "numbers = [4,3,7,4]\n",
    "len(numbers)"
   ]
  },
  {
   "cell_type": "code",
   "execution_count": 104,
   "id": "eee9bf6e",
   "metadata": {},
   "outputs": [
    {
     "name": "stdout",
     "output_type": "stream",
     "text": [
      "7\n"
     ]
    }
   ],
   "source": [
    "print(max(numbers))"
   ]
  },
  {
   "cell_type": "code",
   "execution_count": 105,
   "id": "84ac5731",
   "metadata": {},
   "outputs": [
    {
     "name": "stdout",
     "output_type": "stream",
     "text": [
      "Zack\n"
     ]
    }
   ],
   "source": [
    "names = ['Thomas','Gio','Zack']\n",
    "print(max(names))"
   ]
  },
  {
   "cell_type": "code",
   "execution_count": 106,
   "id": "0f4ca0fb",
   "metadata": {},
   "outputs": [
    {
     "name": "stdout",
     "output_type": "stream",
     "text": [
      "Gio\n"
     ]
    }
   ],
   "source": [
    "print(min(names))"
   ]
  },
  {
   "cell_type": "code",
   "execution_count": 107,
   "id": "f01f009b",
   "metadata": {},
   "outputs": [
    {
     "name": "stdout",
     "output_type": "stream",
     "text": [
      "[3, 4, 4, 7]\n"
     ]
    }
   ],
   "source": [
    "print(sorted(numbers))"
   ]
  },
  {
   "cell_type": "code",
   "execution_count": 108,
   "id": "b7fc5810",
   "metadata": {},
   "outputs": [
    {
     "name": "stdout",
     "output_type": "stream",
     "text": [
      "['Gio', 'Thomas', 'Zack']\n"
     ]
    }
   ],
   "source": [
    "print(sorted(names))"
   ]
  },
  {
   "cell_type": "code",
   "execution_count": 110,
   "id": "d15aa59f",
   "metadata": {},
   "outputs": [
    {
     "data": {
      "text/plain": [
       "'January February March'"
      ]
     },
     "execution_count": 110,
     "metadata": {},
     "output_type": "execute_result"
    }
   ],
   "source": [
    "' '.join(['January','February','March'])"
   ]
  },
  {
   "cell_type": "code",
   "execution_count": 112,
   "id": "8510d986",
   "metadata": {},
   "outputs": [
    {
     "name": "stdout",
     "output_type": "stream",
     "text": [
      "This person is tall, slim, and blonde\n"
     ]
    }
   ],
   "source": [
    "print('This person is {}, {}, and {}'.format('tall','slim','blonde'))"
   ]
  },
  {
   "cell_type": "code",
   "execution_count": 113,
   "id": "2573a8a2",
   "metadata": {},
   "outputs": [
    {
     "name": "stdout",
     "output_type": "stream",
     "text": [
      "['January', 'February', 'March', 'April']\n"
     ]
    }
   ],
   "source": [
    "moths = ['January','Febraury','March']\n",
    "months.append('April')\n",
    "print(months)"
   ]
  },
  {
   "cell_type": "code",
   "execution_count": 117,
   "id": "23c5acda",
   "metadata": {},
   "outputs": [
    {
     "name": "stdout",
     "output_type": "stream",
     "text": [
      "tall slim blonde\n"
     ]
    }
   ],
   "source": [
    "traits = 'tall','slim','blonde'\n",
    "height, build, hair = traits\n",
    "print(height,build,hair)"
   ]
  },
  {
   "cell_type": "code",
   "execution_count": 119,
   "id": "9bf5d596",
   "metadata": {},
   "outputs": [
    {
     "name": "stdout",
     "output_type": "stream",
     "text": [
      "{1, 2, 3}\n"
     ]
    }
   ],
   "source": [
    "duplicate_numbers = [1,1,2,2,3,3]\n",
    "unique_numbers = set(duplicate_numbers)\n",
    "print(unique_numbers)"
   ]
  },
  {
   "cell_type": "code",
   "execution_count": 123,
   "id": "73790c9d",
   "metadata": {},
   "outputs": [
    {
     "name": "stdout",
     "output_type": "stream",
     "text": [
      "{1, 2, 3, 4}\n"
     ]
    }
   ],
   "source": [
    "unique_numbers.add(3)\n",
    "print(unique_numbers)"
   ]
  },
  {
   "cell_type": "code",
   "execution_count": 124,
   "id": "2b722b8b",
   "metadata": {},
   "outputs": [
    {
     "name": "stdout",
     "output_type": "stream",
     "text": [
      "True\n"
     ]
    }
   ],
   "source": [
    "print(2 in unique_numbers)"
   ]
  },
  {
   "cell_type": "code",
   "execution_count": 125,
   "id": "0d9f6201",
   "metadata": {},
   "outputs": [
    {
     "name": "stdout",
     "output_type": "stream",
     "text": [
      "True\n"
     ]
    }
   ],
   "source": [
    "print(5 not in unique_numbers)"
   ]
  },
  {
   "cell_type": "code",
   "execution_count": 126,
   "id": "b45f2ef4",
   "metadata": {},
   "outputs": [
    {
     "name": "stdout",
     "output_type": "stream",
     "text": [
      "True\n"
     ]
    }
   ],
   "source": [
    "print(4 in unique_numbers)"
   ]
  },
  {
   "cell_type": "code",
   "execution_count": 131,
   "id": "9f3e6a20",
   "metadata": {},
   "outputs": [
    {
     "name": "stdout",
     "output_type": "stream",
     "text": [
      "1.39\n"
     ]
    }
   ],
   "source": [
    "inventory = {'bananas':1.29, 'apples':2.99, 'papayas':1.39}\n",
    "print(inventory['papayas'])"
   ]
  },
  {
   "cell_type": "code",
   "execution_count": 132,
   "id": "a86ebcef",
   "metadata": {},
   "outputs": [
    {
     "name": "stdout",
     "output_type": "stream",
     "text": [
      "2.99\n"
     ]
    }
   ],
   "source": [
    "inventory['bananas'] = 2.99\n",
    "print(inventory['bananas'])"
   ]
  },
  {
   "cell_type": "code",
   "execution_count": 133,
   "id": "89ecde5e",
   "metadata": {},
   "outputs": [
    {
     "name": "stdout",
     "output_type": "stream",
     "text": [
      "2.99\n"
     ]
    }
   ],
   "source": [
    "bananas_price = inventory.get('bananas')\n",
    "print(bananas_price)"
   ]
  },
  {
   "cell_type": "code",
   "execution_count": 135,
   "id": "d9975dbb",
   "metadata": {},
   "outputs": [
    {
     "name": "stdout",
     "output_type": "stream",
     "text": [
      "None\n"
     ]
    }
   ],
   "source": [
    "strawberries_price = inventory.get('strawberries')\n",
    "print(strawberries_price)"
   ]
  },
  {
   "cell_type": "code",
   "execution_count": 136,
   "id": "42a85270",
   "metadata": {},
   "outputs": [
    {
     "name": "stdout",
     "output_type": "stream",
     "text": [
      "True\n"
     ]
    }
   ],
   "source": [
    "print('bananas' in inventory)"
   ]
  },
  {
   "cell_type": "code",
   "execution_count": 137,
   "id": "50fb06f4",
   "metadata": {},
   "outputs": [
    {
     "name": "stdout",
     "output_type": "stream",
     "text": [
      "False\n"
     ]
    }
   ],
   "source": [
    "print('guava' in inventory)"
   ]
  },
  {
   "cell_type": "code",
   "execution_count": 138,
   "id": "53c9b4a8",
   "metadata": {},
   "outputs": [
    {
     "name": "stdout",
     "output_type": "stream",
     "text": [
      "True\n"
     ]
    }
   ],
   "source": [
    "print('grapes' not in inventory)"
   ]
  },
  {
   "cell_type": "code",
   "execution_count": 141,
   "id": "e48b951a",
   "metadata": {},
   "outputs": [
    {
     "name": "stdout",
     "output_type": "stream",
     "text": [
      "United Kingdom\n"
     ]
    }
   ],
   "source": [
    "grocery_items = {'bananas':{'price':2.99, 'country of origin':'Gautamela'},\n",
    "                'apples':{'price':1.29, 'country of origin':'United Kingdom'},\n",
    "                'papayas':{'price':2.39, 'country of origin':'Costa Rica'}\n",
    "                }\n",
    "print(grocery_items['apples']['country of origin'])"
   ]
  },
  {
   "cell_type": "code",
   "execution_count": 146,
   "id": "66d9e24d",
   "metadata": {},
   "outputs": [
    {
     "name": "stdout",
     "output_type": "stream",
     "text": [
      "not found\n"
     ]
    }
   ],
   "source": [
    "item = 'brusel sprouts'\n",
    "if item in grocery_items:\n",
    "    print('found the', item)\n",
    "else:\n",
    "    print('not found')\n",
    "    grocery_items.update({item:{'price':2.99,'country of origin':'India'}})"
   ]
  },
  {
   "cell_type": "code",
   "execution_count": 147,
   "id": "a0ce8cab",
   "metadata": {},
   "outputs": [
    {
     "name": "stdout",
     "output_type": "stream",
     "text": [
      "{'bananas': {'price': 2.99, 'country of origin': 'Gautamela'}, 'apples': {'price': 1.29, 'country of origin': 'United Kingdom'}, 'papayas': {'price': 2.39, 'country of origin': 'Costa Rica'}, 'brusel sprouts': {'price': 2.99, 'country of origin': 'India'}}\n"
     ]
    }
   ],
   "source": [
    "print(grocery_items)"
   ]
  },
  {
   "cell_type": "code",
   "execution_count": 151,
   "id": "0929b0c0",
   "metadata": {},
   "outputs": [
    {
     "name": "stdout",
     "output_type": "stream",
     "text": [
      "{'bananas': 1.99, 'apples': 2.99, 'papayas': 1.49}\n"
     ]
    }
   ],
   "source": [
    "grocery_items = {'bananas':1.99,'apples':2.99,'papayas':1.49}\n",
    "print(grocery_items)"
   ]
  },
  {
   "cell_type": "code",
   "execution_count": 152,
   "id": "703e86b5",
   "metadata": {},
   "outputs": [
    {
     "name": "stdout",
     "output_type": "stream",
     "text": [
      "too expensive for inventory\n"
     ]
    }
   ],
   "source": [
    "item, price = 'rutabagas',3.99\n",
    "if item in grocery_items:\n",
    "    print('found the ', item)\n",
    "elif price > 2.99:\n",
    "    print('too expensive for inventory')\n",
    "else:\n",
    "    print('could not find the ', item)\n",
    "    grocery_items.update({item: price})\n",
    "    print('Just added the item, here is the updated grocery list', grocery_items)"
   ]
  },
  {
   "cell_type": "code",
   "execution_count": 153,
   "id": "8776205e",
   "metadata": {},
   "outputs": [
    {
     "name": "stdout",
     "output_type": "stream",
     "text": [
      "still asleeep\n"
     ]
    }
   ],
   "source": [
    "daytime = 'dawn'\n",
    "if daytime == 'dawn':\n",
    "    print('still asleeep')\n",
    "elif daytime == 'morning':\n",
    "    print('time to go to work')\n",
    "elif daytime == 'noon':\n",
    "    print('time to take a lunch break')\n",
    "elif daytime == 'afternoon':\n",
    "    print('time to go home')\n",
    "else:\n",
    "    print('time to go to sleep')"
   ]
  },
  {
   "cell_type": "code",
   "execution_count": 156,
   "id": "368249ee",
   "metadata": {},
   "outputs": [
    {
     "name": "stdout",
     "output_type": "stream",
     "text": [
      "Turbulent\n"
     ]
    }
   ],
   "source": [
    "reynolds_number = 100000\n",
    "if reynolds_number < 2000:\n",
    "    print('Laminar')\n",
    "elif reynolds_number > 2000 and reynolds_number < 10000:\n",
    "    print('Transitional')\n",
    "else:\n",
    "    print('Turbulent')"
   ]
  },
  {
   "cell_type": "code",
   "execution_count": 157,
   "id": "2d400cde",
   "metadata": {},
   "outputs": [
    {
     "name": "stdout",
     "output_type": "stream",
     "text": [
      "January\n",
      "February\n",
      "March\n"
     ]
    }
   ],
   "source": [
    "months = ['January', 'February', 'March']\n",
    "for month in months:\n",
    "    print(month)"
   ]
  },
  {
   "cell_type": "code",
   "execution_count": 162,
   "id": "89121485",
   "metadata": {},
   "outputs": [
    {
     "name": "stdout",
     "output_type": "stream",
     "text": [
      "1\n",
      "2\n",
      "3\n",
      "4\n",
      "5\n",
      "6\n",
      "7\n",
      "8\n",
      "9\n",
      "10\n",
      "11\n",
      "12\n",
      "13\n",
      "14\n",
      "15\n",
      "16\n",
      "17\n",
      "18\n",
      "19\n",
      "20\n",
      "21\n",
      "22\n",
      "23\n",
      "24\n",
      "25\n",
      "26\n",
      "27\n",
      "28\n",
      "29\n",
      "30\n",
      "31\n",
      "32\n",
      "33\n",
      "34\n",
      "35\n",
      "36\n",
      "37\n",
      "38\n",
      "39\n",
      "40\n",
      "41\n",
      "42\n",
      "43\n",
      "44\n",
      "45\n",
      "46\n",
      "47\n",
      "48\n",
      "49\n",
      "50\n",
      "51\n",
      "52\n",
      "53\n",
      "54\n",
      "55\n",
      "56\n",
      "57\n",
      "58\n",
      "59\n",
      "60\n",
      "61\n",
      "62\n",
      "63\n",
      "64\n",
      "65\n",
      "66\n",
      "67\n",
      "68\n",
      "69\n",
      "70\n",
      "71\n",
      "72\n",
      "73\n",
      "74\n",
      "75\n",
      "76\n",
      "77\n",
      "78\n",
      "79\n",
      "80\n",
      "81\n",
      "82\n",
      "83\n",
      "84\n",
      "85\n",
      "86\n",
      "87\n",
      "88\n",
      "89\n",
      "90\n",
      "91\n",
      "92\n",
      "93\n",
      "94\n",
      "95\n",
      "96\n",
      "97\n",
      "98\n",
      "99\n",
      "100\n"
     ]
    }
   ],
   "source": [
    "for number in range(1,101):\n",
    "    print(number)"
   ]
  },
  {
   "cell_type": "code",
   "execution_count": 167,
   "id": "d4121dae",
   "metadata": {},
   "outputs": [
    {
     "name": "stdout",
     "output_type": "stream",
     "text": [
      "Hillary\n",
      "Diana\n",
      "Brian\n"
     ]
    }
   ],
   "source": [
    "names = ['hillary', 'diana', 'brian']\n",
    "for index in range(len(names)):\n",
    "    print(names[index].title())"
   ]
  },
  {
   "cell_type": "code",
   "execution_count": 172,
   "id": "be597057",
   "metadata": {},
   "outputs": [
    {
     "name": "stdout",
     "output_type": "stream",
     "text": [
      "The movie Titanic, was made in 1997\n",
      "The movie Finding Nemo, was made in 2003\n"
     ]
    }
   ],
   "source": [
    "movies = {'Titanic':1997, 'Finding Nemo': 2003}\n",
    "for (key,value) in movies.items():\n",
    "    print('The movie {}, was made in {}'.format(key,value))"
   ]
  },
  {
   "cell_type": "code",
   "execution_count": 175,
   "id": "907fbf82",
   "metadata": {},
   "outputs": [
    {
     "name": "stdout",
     "output_type": "stream",
     "text": [
      "20\n",
      "21\n",
      "22\n",
      "23\n",
      "24\n",
      "25\n",
      "26\n",
      "27\n",
      "28\n",
      "29\n"
     ]
    }
   ],
   "source": [
    "random_number = 20\n",
    "while random_number < 30:\n",
    "    print(random_number)\n",
    "    random_number+=1"
   ]
  },
  {
   "cell_type": "code",
   "execution_count": 176,
   "id": "4c7a6da2",
   "metadata": {},
   "outputs": [
    {
     "name": "stdout",
     "output_type": "stream",
     "text": [
      "[0, 1, 2, 3, 4, 5, 6, 7, 8, 9]\n"
     ]
    }
   ],
   "source": [
    "numbers = list(range(0,10))\n",
    "print(numbers)"
   ]
  },
  {
   "cell_type": "code",
   "execution_count": 179,
   "id": "bf5e2572",
   "metadata": {},
   "outputs": [
    {
     "name": "stdout",
     "output_type": "stream",
     "text": [
      "0\n",
      "2\n",
      "4\n",
      "6\n",
      "8\n"
     ]
    }
   ],
   "source": [
    "for number in numbers:\n",
    "    if number % 2 != 0:\n",
    "        continue;\n",
    "    print(number)"
   ]
  },
  {
   "cell_type": "code",
   "execution_count": 186,
   "id": "cd19e148",
   "metadata": {},
   "outputs": [],
   "source": [
    "def rectangle_area(length, width):\n",
    "    print(length*width)"
   ]
  },
  {
   "cell_type": "code",
   "execution_count": 187,
   "id": "9e3c8227",
   "metadata": {},
   "outputs": [
    {
     "name": "stdout",
     "output_type": "stream",
     "text": [
      "6\n"
     ]
    }
   ],
   "source": [
    "rectangle_area(2,3)"
   ]
  },
  {
   "cell_type": "code",
   "execution_count": 188,
   "id": "a533d13b",
   "metadata": {},
   "outputs": [
    {
     "name": "stdout",
     "output_type": "stream",
     "text": [
      "10100\n"
     ]
    }
   ],
   "source": [
    "rectangle_area(100,101)"
   ]
  },
  {
   "cell_type": "code",
   "execution_count": 191,
   "id": "07b39b97",
   "metadata": {},
   "outputs": [
    {
     "name": "stdout",
     "output_type": "stream",
     "text": [
      "2\n"
     ]
    }
   ],
   "source": [
    "number = 2\n",
    "def eandom_function():\n",
    "    name = 'Bill'\n",
    "print(number)"
   ]
  },
  {
   "cell_type": "code",
   "execution_count": 199,
   "id": "c8899187",
   "metadata": {},
   "outputs": [
    {
     "name": "stdout",
     "output_type": "stream",
     "text": [
      "[2, 4]\n"
     ]
    }
   ],
   "source": [
    "numbers = [1,2,3,4,5]\n",
    "print(list(filter(lambda number: number % 2 == 0,numbers)))"
   ]
  },
  {
   "cell_type": "code",
   "execution_count": null,
   "id": "01cea662",
   "metadata": {},
   "outputs": [],
   "source": []
  }
 ],
 "metadata": {
  "kernelspec": {
   "display_name": "Python 3",
   "language": "python",
   "name": "python3"
  },
  "language_info": {
   "codemirror_mode": {
    "name": "ipython",
    "version": 3
   },
   "file_extension": ".py",
   "mimetype": "text/x-python",
   "name": "python",
   "nbconvert_exporter": "python",
   "pygments_lexer": "ipython3",
   "version": "3.8.8"
  }
 },
 "nbformat": 4,
 "nbformat_minor": 5
}
